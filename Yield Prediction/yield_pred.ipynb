{
 "cells": [
  {
   "cell_type": "code",
   "execution_count": 2,
   "id": "39d6aa01",
   "metadata": {},
   "outputs": [],
   "source": [
    "import numpy as np\n",
    "import pandas as pd\n",
    "import matplotlib.pyplot as plt\n",
    "import seaborn as sns\n",
    "\n",
    "from sklearn.model_selection import train_test_split\n",
    "from sklearn.preprocessing import MinMaxScaler\n",
    "\n",
    "from sklearn.preprocessing import PolynomialFeatures\n",
    "from sklearn.linear_model import LinearRegression\n",
    "from sklearn.metrics import r2_score\n",
    "\n",
    "from sklearn.svm import SVC\n",
    "from sklearn import svm"
   ]
  },
  {
   "cell_type": "code",
   "execution_count": 3,
   "id": "37b6ce71",
   "metadata": {},
   "outputs": [],
   "source": [
    "data = pd.read_csv('train.csv')\n",
    "test = pd.read_csv('test.csv')\n",
    "sample_sub = pd.read_csv('sample_submission.csv')"
   ]
  },
  {
   "cell_type": "code",
   "execution_count": 4,
   "id": "2fab226a",
   "metadata": {},
   "outputs": [
    {
     "data": {
      "text/html": [
       "<div>\n",
       "<style scoped>\n",
       "    .dataframe tbody tr th:only-of-type {\n",
       "        vertical-align: middle;\n",
       "    }\n",
       "\n",
       "    .dataframe tbody tr th {\n",
       "        vertical-align: top;\n",
       "    }\n",
       "\n",
       "    .dataframe thead th {\n",
       "        text-align: right;\n",
       "    }\n",
       "</style>\n",
       "<table border=\"1\" class=\"dataframe\">\n",
       "  <thead>\n",
       "    <tr style=\"text-align: right;\">\n",
       "      <th></th>\n",
       "      <th>id</th>\n",
       "      <th>clonesize</th>\n",
       "      <th>honeybee</th>\n",
       "      <th>bumbles</th>\n",
       "      <th>andrena</th>\n",
       "      <th>osmia</th>\n",
       "      <th>MaxOfUpperTRange</th>\n",
       "      <th>MinOfUpperTRange</th>\n",
       "      <th>AverageOfUpperTRange</th>\n",
       "      <th>MaxOfLowerTRange</th>\n",
       "      <th>MinOfLowerTRange</th>\n",
       "      <th>AverageOfLowerTRange</th>\n",
       "      <th>RainingDays</th>\n",
       "      <th>AverageRainingDays</th>\n",
       "      <th>fruitset</th>\n",
       "      <th>fruitmass</th>\n",
       "      <th>seeds</th>\n",
       "      <th>yield</th>\n",
       "    </tr>\n",
       "  </thead>\n",
       "  <tbody>\n",
       "    <tr>\n",
       "      <th>0</th>\n",
       "      <td>0</td>\n",
       "      <td>25.0</td>\n",
       "      <td>0.50</td>\n",
       "      <td>0.25</td>\n",
       "      <td>0.75</td>\n",
       "      <td>0.50</td>\n",
       "      <td>69.7</td>\n",
       "      <td>42.1</td>\n",
       "      <td>58.2</td>\n",
       "      <td>50.2</td>\n",
       "      <td>24.3</td>\n",
       "      <td>41.2</td>\n",
       "      <td>24.0</td>\n",
       "      <td>0.39</td>\n",
       "      <td>0.425011</td>\n",
       "      <td>0.417545</td>\n",
       "      <td>32.460887</td>\n",
       "      <td>4476.81146</td>\n",
       "    </tr>\n",
       "    <tr>\n",
       "      <th>1</th>\n",
       "      <td>1</td>\n",
       "      <td>25.0</td>\n",
       "      <td>0.50</td>\n",
       "      <td>0.25</td>\n",
       "      <td>0.50</td>\n",
       "      <td>0.50</td>\n",
       "      <td>69.7</td>\n",
       "      <td>42.1</td>\n",
       "      <td>58.2</td>\n",
       "      <td>50.2</td>\n",
       "      <td>24.3</td>\n",
       "      <td>41.2</td>\n",
       "      <td>24.0</td>\n",
       "      <td>0.39</td>\n",
       "      <td>0.444908</td>\n",
       "      <td>0.422051</td>\n",
       "      <td>33.858317</td>\n",
       "      <td>5548.12201</td>\n",
       "    </tr>\n",
       "    <tr>\n",
       "      <th>2</th>\n",
       "      <td>2</td>\n",
       "      <td>12.5</td>\n",
       "      <td>0.25</td>\n",
       "      <td>0.25</td>\n",
       "      <td>0.63</td>\n",
       "      <td>0.63</td>\n",
       "      <td>86.0</td>\n",
       "      <td>52.0</td>\n",
       "      <td>71.9</td>\n",
       "      <td>62.0</td>\n",
       "      <td>30.0</td>\n",
       "      <td>50.8</td>\n",
       "      <td>24.0</td>\n",
       "      <td>0.39</td>\n",
       "      <td>0.552927</td>\n",
       "      <td>0.470853</td>\n",
       "      <td>38.341781</td>\n",
       "      <td>6869.77760</td>\n",
       "    </tr>\n",
       "    <tr>\n",
       "      <th>3</th>\n",
       "      <td>3</td>\n",
       "      <td>12.5</td>\n",
       "      <td>0.25</td>\n",
       "      <td>0.25</td>\n",
       "      <td>0.63</td>\n",
       "      <td>0.50</td>\n",
       "      <td>77.4</td>\n",
       "      <td>46.8</td>\n",
       "      <td>64.7</td>\n",
       "      <td>55.8</td>\n",
       "      <td>27.0</td>\n",
       "      <td>45.8</td>\n",
       "      <td>24.0</td>\n",
       "      <td>0.39</td>\n",
       "      <td>0.565976</td>\n",
       "      <td>0.478137</td>\n",
       "      <td>39.467561</td>\n",
       "      <td>6880.77590</td>\n",
       "    </tr>\n",
       "    <tr>\n",
       "      <th>4</th>\n",
       "      <td>4</td>\n",
       "      <td>25.0</td>\n",
       "      <td>0.50</td>\n",
       "      <td>0.25</td>\n",
       "      <td>0.63</td>\n",
       "      <td>0.63</td>\n",
       "      <td>77.4</td>\n",
       "      <td>46.8</td>\n",
       "      <td>64.7</td>\n",
       "      <td>55.8</td>\n",
       "      <td>27.0</td>\n",
       "      <td>45.8</td>\n",
       "      <td>24.0</td>\n",
       "      <td>0.39</td>\n",
       "      <td>0.579677</td>\n",
       "      <td>0.494165</td>\n",
       "      <td>40.484512</td>\n",
       "      <td>7479.93417</td>\n",
       "    </tr>\n",
       "    <tr>\n",
       "      <th>...</th>\n",
       "      <td>...</td>\n",
       "      <td>...</td>\n",
       "      <td>...</td>\n",
       "      <td>...</td>\n",
       "      <td>...</td>\n",
       "      <td>...</td>\n",
       "      <td>...</td>\n",
       "      <td>...</td>\n",
       "      <td>...</td>\n",
       "      <td>...</td>\n",
       "      <td>...</td>\n",
       "      <td>...</td>\n",
       "      <td>...</td>\n",
       "      <td>...</td>\n",
       "      <td>...</td>\n",
       "      <td>...</td>\n",
       "      <td>...</td>\n",
       "      <td>...</td>\n",
       "    </tr>\n",
       "    <tr>\n",
       "      <th>15284</th>\n",
       "      <td>15284</td>\n",
       "      <td>12.5</td>\n",
       "      <td>0.25</td>\n",
       "      <td>0.25</td>\n",
       "      <td>0.38</td>\n",
       "      <td>0.50</td>\n",
       "      <td>77.4</td>\n",
       "      <td>46.8</td>\n",
       "      <td>64.7</td>\n",
       "      <td>55.8</td>\n",
       "      <td>27.0</td>\n",
       "      <td>45.8</td>\n",
       "      <td>16.0</td>\n",
       "      <td>0.26</td>\n",
       "      <td>0.556302</td>\n",
       "      <td>0.476308</td>\n",
       "      <td>40.546480</td>\n",
       "      <td>7667.83619</td>\n",
       "    </tr>\n",
       "    <tr>\n",
       "      <th>15285</th>\n",
       "      <td>15285</td>\n",
       "      <td>12.5</td>\n",
       "      <td>0.25</td>\n",
       "      <td>0.25</td>\n",
       "      <td>0.25</td>\n",
       "      <td>0.50</td>\n",
       "      <td>86.0</td>\n",
       "      <td>52.0</td>\n",
       "      <td>71.9</td>\n",
       "      <td>62.0</td>\n",
       "      <td>30.0</td>\n",
       "      <td>50.8</td>\n",
       "      <td>34.0</td>\n",
       "      <td>0.56</td>\n",
       "      <td>0.354413</td>\n",
       "      <td>0.388145</td>\n",
       "      <td>29.467434</td>\n",
       "      <td>3680.56025</td>\n",
       "    </tr>\n",
       "    <tr>\n",
       "      <th>15286</th>\n",
       "      <td>15286</td>\n",
       "      <td>25.0</td>\n",
       "      <td>0.50</td>\n",
       "      <td>0.25</td>\n",
       "      <td>0.38</td>\n",
       "      <td>0.75</td>\n",
       "      <td>77.4</td>\n",
       "      <td>46.8</td>\n",
       "      <td>64.7</td>\n",
       "      <td>55.8</td>\n",
       "      <td>27.0</td>\n",
       "      <td>45.8</td>\n",
       "      <td>34.0</td>\n",
       "      <td>0.56</td>\n",
       "      <td>0.422548</td>\n",
       "      <td>0.416786</td>\n",
       "      <td>32.299059</td>\n",
       "      <td>4696.44394</td>\n",
       "    </tr>\n",
       "    <tr>\n",
       "      <th>15287</th>\n",
       "      <td>15287</td>\n",
       "      <td>25.0</td>\n",
       "      <td>0.50</td>\n",
       "      <td>0.25</td>\n",
       "      <td>0.63</td>\n",
       "      <td>0.63</td>\n",
       "      <td>69.7</td>\n",
       "      <td>42.1</td>\n",
       "      <td>58.2</td>\n",
       "      <td>50.2</td>\n",
       "      <td>24.3</td>\n",
       "      <td>41.2</td>\n",
       "      <td>24.0</td>\n",
       "      <td>0.39</td>\n",
       "      <td>0.542170</td>\n",
       "      <td>0.434133</td>\n",
       "      <td>36.674243</td>\n",
       "      <td>6772.93347</td>\n",
       "    </tr>\n",
       "    <tr>\n",
       "      <th>15288</th>\n",
       "      <td>15288</td>\n",
       "      <td>25.0</td>\n",
       "      <td>0.50</td>\n",
       "      <td>0.25</td>\n",
       "      <td>0.63</td>\n",
       "      <td>0.50</td>\n",
       "      <td>77.4</td>\n",
       "      <td>46.8</td>\n",
       "      <td>64.7</td>\n",
       "      <td>55.8</td>\n",
       "      <td>27.0</td>\n",
       "      <td>45.8</td>\n",
       "      <td>16.0</td>\n",
       "      <td>0.26</td>\n",
       "      <td>0.492077</td>\n",
       "      <td>0.446576</td>\n",
       "      <td>35.094733</td>\n",
       "      <td>5867.99722</td>\n",
       "    </tr>\n",
       "  </tbody>\n",
       "</table>\n",
       "<p>15289 rows × 18 columns</p>\n",
       "</div>"
      ],
      "text/plain": [
       "          id  clonesize  honeybee  bumbles  andrena  osmia  MaxOfUpperTRange  \\\n",
       "0          0       25.0      0.50     0.25     0.75   0.50              69.7   \n",
       "1          1       25.0      0.50     0.25     0.50   0.50              69.7   \n",
       "2          2       12.5      0.25     0.25     0.63   0.63              86.0   \n",
       "3          3       12.5      0.25     0.25     0.63   0.50              77.4   \n",
       "4          4       25.0      0.50     0.25     0.63   0.63              77.4   \n",
       "...      ...        ...       ...      ...      ...    ...               ...   \n",
       "15284  15284       12.5      0.25     0.25     0.38   0.50              77.4   \n",
       "15285  15285       12.5      0.25     0.25     0.25   0.50              86.0   \n",
       "15286  15286       25.0      0.50     0.25     0.38   0.75              77.4   \n",
       "15287  15287       25.0      0.50     0.25     0.63   0.63              69.7   \n",
       "15288  15288       25.0      0.50     0.25     0.63   0.50              77.4   \n",
       "\n",
       "       MinOfUpperTRange  AverageOfUpperTRange  MaxOfLowerTRange  \\\n",
       "0                  42.1                  58.2              50.2   \n",
       "1                  42.1                  58.2              50.2   \n",
       "2                  52.0                  71.9              62.0   \n",
       "3                  46.8                  64.7              55.8   \n",
       "4                  46.8                  64.7              55.8   \n",
       "...                 ...                   ...               ...   \n",
       "15284              46.8                  64.7              55.8   \n",
       "15285              52.0                  71.9              62.0   \n",
       "15286              46.8                  64.7              55.8   \n",
       "15287              42.1                  58.2              50.2   \n",
       "15288              46.8                  64.7              55.8   \n",
       "\n",
       "       MinOfLowerTRange  AverageOfLowerTRange  RainingDays  \\\n",
       "0                  24.3                  41.2         24.0   \n",
       "1                  24.3                  41.2         24.0   \n",
       "2                  30.0                  50.8         24.0   \n",
       "3                  27.0                  45.8         24.0   \n",
       "4                  27.0                  45.8         24.0   \n",
       "...                 ...                   ...          ...   \n",
       "15284              27.0                  45.8         16.0   \n",
       "15285              30.0                  50.8         34.0   \n",
       "15286              27.0                  45.8         34.0   \n",
       "15287              24.3                  41.2         24.0   \n",
       "15288              27.0                  45.8         16.0   \n",
       "\n",
       "       AverageRainingDays  fruitset  fruitmass      seeds       yield  \n",
       "0                    0.39  0.425011   0.417545  32.460887  4476.81146  \n",
       "1                    0.39  0.444908   0.422051  33.858317  5548.12201  \n",
       "2                    0.39  0.552927   0.470853  38.341781  6869.77760  \n",
       "3                    0.39  0.565976   0.478137  39.467561  6880.77590  \n",
       "4                    0.39  0.579677   0.494165  40.484512  7479.93417  \n",
       "...                   ...       ...        ...        ...         ...  \n",
       "15284                0.26  0.556302   0.476308  40.546480  7667.83619  \n",
       "15285                0.56  0.354413   0.388145  29.467434  3680.56025  \n",
       "15286                0.56  0.422548   0.416786  32.299059  4696.44394  \n",
       "15287                0.39  0.542170   0.434133  36.674243  6772.93347  \n",
       "15288                0.26  0.492077   0.446576  35.094733  5867.99722  \n",
       "\n",
       "[15289 rows x 18 columns]"
      ]
     },
     "execution_count": 4,
     "metadata": {},
     "output_type": "execute_result"
    }
   ],
   "source": [
    "data"
   ]
  },
  {
   "cell_type": "code",
   "execution_count": 5,
   "id": "280ad798",
   "metadata": {},
   "outputs": [
    {
     "data": {
      "text/html": [
       "<div>\n",
       "<style scoped>\n",
       "    .dataframe tbody tr th:only-of-type {\n",
       "        vertical-align: middle;\n",
       "    }\n",
       "\n",
       "    .dataframe tbody tr th {\n",
       "        vertical-align: top;\n",
       "    }\n",
       "\n",
       "    .dataframe thead th {\n",
       "        text-align: right;\n",
       "    }\n",
       "</style>\n",
       "<table border=\"1\" class=\"dataframe\">\n",
       "  <thead>\n",
       "    <tr style=\"text-align: right;\">\n",
       "      <th></th>\n",
       "      <th>id</th>\n",
       "      <th>clonesize</th>\n",
       "      <th>honeybee</th>\n",
       "      <th>bumbles</th>\n",
       "      <th>andrena</th>\n",
       "      <th>osmia</th>\n",
       "      <th>MaxOfUpperTRange</th>\n",
       "      <th>MinOfUpperTRange</th>\n",
       "      <th>AverageOfUpperTRange</th>\n",
       "      <th>MaxOfLowerTRange</th>\n",
       "      <th>MinOfLowerTRange</th>\n",
       "      <th>AverageOfLowerTRange</th>\n",
       "      <th>RainingDays</th>\n",
       "      <th>AverageRainingDays</th>\n",
       "      <th>fruitset</th>\n",
       "      <th>fruitmass</th>\n",
       "      <th>seeds</th>\n",
       "    </tr>\n",
       "  </thead>\n",
       "  <tbody>\n",
       "    <tr>\n",
       "      <th>0</th>\n",
       "      <td>15289</td>\n",
       "      <td>25.0</td>\n",
       "      <td>0.25</td>\n",
       "      <td>0.25</td>\n",
       "      <td>0.25</td>\n",
       "      <td>0.25</td>\n",
       "      <td>86.0</td>\n",
       "      <td>52.0</td>\n",
       "      <td>71.9</td>\n",
       "      <td>62.0</td>\n",
       "      <td>30.0</td>\n",
       "      <td>50.8</td>\n",
       "      <td>24.0</td>\n",
       "      <td>0.39</td>\n",
       "      <td>0.399367</td>\n",
       "      <td>0.408088</td>\n",
       "      <td>31.394569</td>\n",
       "    </tr>\n",
       "    <tr>\n",
       "      <th>1</th>\n",
       "      <td>15290</td>\n",
       "      <td>12.5</td>\n",
       "      <td>0.25</td>\n",
       "      <td>0.25</td>\n",
       "      <td>0.75</td>\n",
       "      <td>0.63</td>\n",
       "      <td>94.6</td>\n",
       "      <td>57.2</td>\n",
       "      <td>79.0</td>\n",
       "      <td>68.2</td>\n",
       "      <td>33.0</td>\n",
       "      <td>55.9</td>\n",
       "      <td>1.0</td>\n",
       "      <td>0.10</td>\n",
       "      <td>0.488048</td>\n",
       "      <td>0.442866</td>\n",
       "      <td>36.846956</td>\n",
       "    </tr>\n",
       "    <tr>\n",
       "      <th>2</th>\n",
       "      <td>15291</td>\n",
       "      <td>12.5</td>\n",
       "      <td>0.25</td>\n",
       "      <td>0.25</td>\n",
       "      <td>0.63</td>\n",
       "      <td>0.63</td>\n",
       "      <td>86.0</td>\n",
       "      <td>52.0</td>\n",
       "      <td>71.9</td>\n",
       "      <td>62.0</td>\n",
       "      <td>30.0</td>\n",
       "      <td>50.8</td>\n",
       "      <td>16.0</td>\n",
       "      <td>0.26</td>\n",
       "      <td>0.583379</td>\n",
       "      <td>0.487057</td>\n",
       "      <td>40.037644</td>\n",
       "    </tr>\n",
       "    <tr>\n",
       "      <th>3</th>\n",
       "      <td>15292</td>\n",
       "      <td>25.0</td>\n",
       "      <td>0.50</td>\n",
       "      <td>0.38</td>\n",
       "      <td>0.38</td>\n",
       "      <td>0.63</td>\n",
       "      <td>86.0</td>\n",
       "      <td>52.0</td>\n",
       "      <td>71.9</td>\n",
       "      <td>62.0</td>\n",
       "      <td>30.0</td>\n",
       "      <td>50.8</td>\n",
       "      <td>16.0</td>\n",
       "      <td>0.26</td>\n",
       "      <td>0.433014</td>\n",
       "      <td>0.422847</td>\n",
       "      <td>33.116091</td>\n",
       "    </tr>\n",
       "    <tr>\n",
       "      <th>4</th>\n",
       "      <td>15293</td>\n",
       "      <td>37.5</td>\n",
       "      <td>0.75</td>\n",
       "      <td>0.25</td>\n",
       "      <td>0.25</td>\n",
       "      <td>0.25</td>\n",
       "      <td>94.6</td>\n",
       "      <td>57.2</td>\n",
       "      <td>79.0</td>\n",
       "      <td>68.2</td>\n",
       "      <td>33.0</td>\n",
       "      <td>55.9</td>\n",
       "      <td>24.0</td>\n",
       "      <td>0.39</td>\n",
       "      <td>0.360996</td>\n",
       "      <td>0.388860</td>\n",
       "      <td>29.558019</td>\n",
       "    </tr>\n",
       "    <tr>\n",
       "      <th>...</th>\n",
       "      <td>...</td>\n",
       "      <td>...</td>\n",
       "      <td>...</td>\n",
       "      <td>...</td>\n",
       "      <td>...</td>\n",
       "      <td>...</td>\n",
       "      <td>...</td>\n",
       "      <td>...</td>\n",
       "      <td>...</td>\n",
       "      <td>...</td>\n",
       "      <td>...</td>\n",
       "      <td>...</td>\n",
       "      <td>...</td>\n",
       "      <td>...</td>\n",
       "      <td>...</td>\n",
       "      <td>...</td>\n",
       "      <td>...</td>\n",
       "    </tr>\n",
       "    <tr>\n",
       "      <th>10189</th>\n",
       "      <td>25478</td>\n",
       "      <td>25.0</td>\n",
       "      <td>0.25</td>\n",
       "      <td>0.25</td>\n",
       "      <td>0.25</td>\n",
       "      <td>0.25</td>\n",
       "      <td>86.0</td>\n",
       "      <td>52.0</td>\n",
       "      <td>71.9</td>\n",
       "      <td>62.0</td>\n",
       "      <td>30.0</td>\n",
       "      <td>50.8</td>\n",
       "      <td>24.0</td>\n",
       "      <td>0.39</td>\n",
       "      <td>0.474162</td>\n",
       "      <td>0.437923</td>\n",
       "      <td>34.525258</td>\n",
       "    </tr>\n",
       "    <tr>\n",
       "      <th>10190</th>\n",
       "      <td>25479</td>\n",
       "      <td>25.0</td>\n",
       "      <td>0.50</td>\n",
       "      <td>0.25</td>\n",
       "      <td>0.50</td>\n",
       "      <td>0.75</td>\n",
       "      <td>77.4</td>\n",
       "      <td>46.8</td>\n",
       "      <td>64.7</td>\n",
       "      <td>55.8</td>\n",
       "      <td>27.0</td>\n",
       "      <td>45.8</td>\n",
       "      <td>16.0</td>\n",
       "      <td>0.26</td>\n",
       "      <td>0.482854</td>\n",
       "      <td>0.440676</td>\n",
       "      <td>35.648221</td>\n",
       "    </tr>\n",
       "    <tr>\n",
       "      <th>10191</th>\n",
       "      <td>25480</td>\n",
       "      <td>25.0</td>\n",
       "      <td>0.50</td>\n",
       "      <td>0.38</td>\n",
       "      <td>0.50</td>\n",
       "      <td>0.50</td>\n",
       "      <td>77.4</td>\n",
       "      <td>46.8</td>\n",
       "      <td>64.7</td>\n",
       "      <td>55.8</td>\n",
       "      <td>27.0</td>\n",
       "      <td>45.8</td>\n",
       "      <td>16.0</td>\n",
       "      <td>0.26</td>\n",
       "      <td>0.568854</td>\n",
       "      <td>0.463065</td>\n",
       "      <td>37.724724</td>\n",
       "    </tr>\n",
       "    <tr>\n",
       "      <th>10192</th>\n",
       "      <td>25481</td>\n",
       "      <td>12.5</td>\n",
       "      <td>0.25</td>\n",
       "      <td>0.25</td>\n",
       "      <td>0.38</td>\n",
       "      <td>0.50</td>\n",
       "      <td>94.6</td>\n",
       "      <td>57.2</td>\n",
       "      <td>79.0</td>\n",
       "      <td>68.2</td>\n",
       "      <td>33.0</td>\n",
       "      <td>55.9</td>\n",
       "      <td>34.0</td>\n",
       "      <td>0.56</td>\n",
       "      <td>0.407374</td>\n",
       "      <td>0.409261</td>\n",
       "      <td>31.881847</td>\n",
       "    </tr>\n",
       "    <tr>\n",
       "      <th>10193</th>\n",
       "      <td>25482</td>\n",
       "      <td>12.5</td>\n",
       "      <td>0.25</td>\n",
       "      <td>0.25</td>\n",
       "      <td>0.50</td>\n",
       "      <td>0.50</td>\n",
       "      <td>77.4</td>\n",
       "      <td>46.8</td>\n",
       "      <td>64.7</td>\n",
       "      <td>55.8</td>\n",
       "      <td>27.0</td>\n",
       "      <td>45.8</td>\n",
       "      <td>1.0</td>\n",
       "      <td>0.10</td>\n",
       "      <td>0.579677</td>\n",
       "      <td>0.486202</td>\n",
       "      <td>40.265408</td>\n",
       "    </tr>\n",
       "  </tbody>\n",
       "</table>\n",
       "<p>10194 rows × 17 columns</p>\n",
       "</div>"
      ],
      "text/plain": [
       "          id  clonesize  honeybee  bumbles  andrena  osmia  MaxOfUpperTRange  \\\n",
       "0      15289       25.0      0.25     0.25     0.25   0.25              86.0   \n",
       "1      15290       12.5      0.25     0.25     0.75   0.63              94.6   \n",
       "2      15291       12.5      0.25     0.25     0.63   0.63              86.0   \n",
       "3      15292       25.0      0.50     0.38     0.38   0.63              86.0   \n",
       "4      15293       37.5      0.75     0.25     0.25   0.25              94.6   \n",
       "...      ...        ...       ...      ...      ...    ...               ...   \n",
       "10189  25478       25.0      0.25     0.25     0.25   0.25              86.0   \n",
       "10190  25479       25.0      0.50     0.25     0.50   0.75              77.4   \n",
       "10191  25480       25.0      0.50     0.38     0.50   0.50              77.4   \n",
       "10192  25481       12.5      0.25     0.25     0.38   0.50              94.6   \n",
       "10193  25482       12.5      0.25     0.25     0.50   0.50              77.4   \n",
       "\n",
       "       MinOfUpperTRange  AverageOfUpperTRange  MaxOfLowerTRange  \\\n",
       "0                  52.0                  71.9              62.0   \n",
       "1                  57.2                  79.0              68.2   \n",
       "2                  52.0                  71.9              62.0   \n",
       "3                  52.0                  71.9              62.0   \n",
       "4                  57.2                  79.0              68.2   \n",
       "...                 ...                   ...               ...   \n",
       "10189              52.0                  71.9              62.0   \n",
       "10190              46.8                  64.7              55.8   \n",
       "10191              46.8                  64.7              55.8   \n",
       "10192              57.2                  79.0              68.2   \n",
       "10193              46.8                  64.7              55.8   \n",
       "\n",
       "       MinOfLowerTRange  AverageOfLowerTRange  RainingDays  \\\n",
       "0                  30.0                  50.8         24.0   \n",
       "1                  33.0                  55.9          1.0   \n",
       "2                  30.0                  50.8         16.0   \n",
       "3                  30.0                  50.8         16.0   \n",
       "4                  33.0                  55.9         24.0   \n",
       "...                 ...                   ...          ...   \n",
       "10189              30.0                  50.8         24.0   \n",
       "10190              27.0                  45.8         16.0   \n",
       "10191              27.0                  45.8         16.0   \n",
       "10192              33.0                  55.9         34.0   \n",
       "10193              27.0                  45.8          1.0   \n",
       "\n",
       "       AverageRainingDays  fruitset  fruitmass      seeds  \n",
       "0                    0.39  0.399367   0.408088  31.394569  \n",
       "1                    0.10  0.488048   0.442866  36.846956  \n",
       "2                    0.26  0.583379   0.487057  40.037644  \n",
       "3                    0.26  0.433014   0.422847  33.116091  \n",
       "4                    0.39  0.360996   0.388860  29.558019  \n",
       "...                   ...       ...        ...        ...  \n",
       "10189                0.39  0.474162   0.437923  34.525258  \n",
       "10190                0.26  0.482854   0.440676  35.648221  \n",
       "10191                0.26  0.568854   0.463065  37.724724  \n",
       "10192                0.56  0.407374   0.409261  31.881847  \n",
       "10193                0.10  0.579677   0.486202  40.265408  \n",
       "\n",
       "[10194 rows x 17 columns]"
      ]
     },
     "execution_count": 5,
     "metadata": {},
     "output_type": "execute_result"
    }
   ],
   "source": [
    "test"
   ]
  },
  {
   "cell_type": "code",
   "execution_count": 6,
   "id": "4cd1a20a",
   "metadata": {},
   "outputs": [
    {
     "data": {
      "text/plain": [
       "((15289, 18), (10194, 17))"
      ]
     },
     "execution_count": 6,
     "metadata": {},
     "output_type": "execute_result"
    }
   ],
   "source": [
    "data.shape, test.shape"
   ]
  },
  {
   "cell_type": "code",
   "execution_count": 7,
   "id": "edeccab0",
   "metadata": {},
   "outputs": [
    {
     "data": {
      "text/plain": [
       "Index(['id', 'clonesize', 'honeybee', 'bumbles', 'andrena', 'osmia',\n",
       "       'MaxOfUpperTRange', 'MinOfUpperTRange', 'AverageOfUpperTRange',\n",
       "       'MaxOfLowerTRange', 'MinOfLowerTRange', 'AverageOfLowerTRange',\n",
       "       'RainingDays', 'AverageRainingDays', 'fruitset', 'fruitmass', 'seeds',\n",
       "       'yield'],\n",
       "      dtype='object')"
      ]
     },
     "execution_count": 7,
     "metadata": {},
     "output_type": "execute_result"
    }
   ],
   "source": [
    "data.columns"
   ]
  },
  {
   "cell_type": "code",
   "execution_count": 8,
   "id": "dd944eac",
   "metadata": {},
   "outputs": [
    {
     "name": "stdout",
     "output_type": "stream",
     "text": [
      "<class 'pandas.core.frame.DataFrame'>\n",
      "RangeIndex: 15289 entries, 0 to 15288\n",
      "Data columns (total 18 columns):\n",
      " #   Column                Non-Null Count  Dtype  \n",
      "---  ------                --------------  -----  \n",
      " 0   id                    15289 non-null  int64  \n",
      " 1   clonesize             15289 non-null  float64\n",
      " 2   honeybee              15289 non-null  float64\n",
      " 3   bumbles               15289 non-null  float64\n",
      " 4   andrena               15289 non-null  float64\n",
      " 5   osmia                 15289 non-null  float64\n",
      " 6   MaxOfUpperTRange      15289 non-null  float64\n",
      " 7   MinOfUpperTRange      15289 non-null  float64\n",
      " 8   AverageOfUpperTRange  15289 non-null  float64\n",
      " 9   MaxOfLowerTRange      15289 non-null  float64\n",
      " 10  MinOfLowerTRange      15289 non-null  float64\n",
      " 11  AverageOfLowerTRange  15289 non-null  float64\n",
      " 12  RainingDays           15289 non-null  float64\n",
      " 13  AverageRainingDays    15289 non-null  float64\n",
      " 14  fruitset              15289 non-null  float64\n",
      " 15  fruitmass             15289 non-null  float64\n",
      " 16  seeds                 15289 non-null  float64\n",
      " 17  yield                 15289 non-null  float64\n",
      "dtypes: float64(17), int64(1)\n",
      "memory usage: 2.1 MB\n"
     ]
    }
   ],
   "source": [
    "data.info()"
   ]
  },
  {
   "cell_type": "code",
   "execution_count": 9,
   "id": "414b1e87",
   "metadata": {},
   "outputs": [],
   "source": [
    "feat = ['clonesize', 'honeybee', 'bumbles', 'andrena', 'osmia',\n",
    "       'MaxOfUpperTRange', 'MinOfUpperTRange', 'AverageOfUpperTRange',\n",
    "       'MaxOfLowerTRange', 'MinOfLowerTRange', 'AverageOfLowerTRange',\n",
    "       'RainingDays', 'AverageRainingDays', 'fruitset', 'fruitmass', 'seeds']\n",
    "target = ['yield']"
   ]
  },
  {
   "cell_type": "code",
   "execution_count": 10,
   "id": "b75fa2a4",
   "metadata": {},
   "outputs": [
    {
     "data": {
      "text/plain": [
       "count    15289.000000\n",
       "mean      6025.193999\n",
       "std       1337.056850\n",
       "min       1945.530610\n",
       "25%       5128.163510\n",
       "50%       6117.475900\n",
       "75%       7019.694380\n",
       "max       8969.401840\n",
       "Name: yield, dtype: float64"
      ]
     },
     "execution_count": 10,
     "metadata": {},
     "output_type": "execute_result"
    }
   ],
   "source": [
    "data['yield'].describe()"
   ]
  },
  {
   "cell_type": "code",
   "execution_count": 11,
   "id": "d780e3d9",
   "metadata": {},
   "outputs": [
    {
     "data": {
      "text/plain": [
       "id                      0\n",
       "clonesize               0\n",
       "honeybee                0\n",
       "bumbles                 0\n",
       "andrena                 0\n",
       "osmia                   0\n",
       "MaxOfUpperTRange        0\n",
       "MinOfUpperTRange        0\n",
       "AverageOfUpperTRange    0\n",
       "MaxOfLowerTRange        0\n",
       "MinOfLowerTRange        0\n",
       "AverageOfLowerTRange    0\n",
       "RainingDays             0\n",
       "AverageRainingDays      0\n",
       "fruitset                0\n",
       "fruitmass               0\n",
       "seeds                   0\n",
       "yield                   0\n",
       "dtype: int64"
      ]
     },
     "execution_count": 11,
     "metadata": {},
     "output_type": "execute_result"
    }
   ],
   "source": [
    "data.isnull().sum()"
   ]
  },
  {
   "cell_type": "code",
   "execution_count": 12,
   "id": "2fa38706",
   "metadata": {},
   "outputs": [],
   "source": [
    "#ALL SCORES\n",
    "def scores(y_true, y_pred):\n",
    "    from sklearn.metrics import mean_absolute_error\n",
    "    from sklearn.metrics import mean_squared_error\n",
    "    from sklearn.metrics import r2_score\n",
    "    \n",
    "    r2 = r2_score(y_true, y_pred)\n",
    "\n",
    "    mse = mean_squared_error(y_true, y_pred)\n",
    "    rmse = np.sqrt(mse)\n",
    "\n",
    "    mae = mean_absolute_error(y_true, y_pred)\n",
    "    \n",
    "    print(f\" R2 Score is {r2}\")\n",
    "    print (f\" Mean Sq Erro is {mse}\")\n",
    "    print (f\" Root MSE is {rmse}\")\n",
    "    print (f\" Mean Abs Error is {mae}\")\n"
   ]
  },
  {
   "cell_type": "code",
   "execution_count": 13,
   "id": "72b28dab",
   "metadata": {},
   "outputs": [],
   "source": [
    "X = data[feat]\n",
    "y = data[target]"
   ]
  },
  {
   "cell_type": "code",
   "execution_count": 14,
   "id": "11f791a0",
   "metadata": {},
   "outputs": [],
   "source": [
    "# Split dataset into training and test sets (80/20 split)\n",
    "X_train, X_val, y_train, y_val = train_test_split(X, y, test_size=0.3, random_state=42)"
   ]
  },
  {
   "cell_type": "code",
   "execution_count": 15,
   "id": "ff998390",
   "metadata": {},
   "outputs": [],
   "source": [
    "train = X_train.copy()\n",
    "train['yield'] = y_train\n",
    "\n",
    "val = X_val.copy()\n",
    "val['yield'] = y_val"
   ]
  },
  {
   "cell_type": "code",
   "execution_count": null,
   "id": "b4559432",
   "metadata": {},
   "outputs": [],
   "source": []
  },
  {
   "cell_type": "code",
   "execution_count": 60,
   "id": "9c42468d",
   "metadata": {},
   "outputs": [
    {
     "name": "stderr",
     "output_type": "stream",
     "text": [
      "C:\\Users\\khann\\anaconda3\\lib\\site-packages\\sklearn\\linear_model\\_base.py:148: FutureWarning: 'normalize' was deprecated in version 1.0 and will be removed in 1.2. Please leave the normalize parameter to its default value to silence this warning. The default behavior of this estimator is to not do any normalization. If normalization is needed please use sklearn.preprocessing.StandardScaler instead.\n",
      "  warnings.warn(\n"
     ]
    },
    {
     "data": {
      "text/plain": [
       "LinearRegression(normalize=False)"
      ]
     },
     "execution_count": 60,
     "metadata": {},
     "output_type": "execute_result"
    }
   ],
   "source": [
    "#1 LINEAR MODEL\n",
    "lin_reg = LinearRegression(fit_intercept=True, normalize = False)\n",
    "lin_reg.fit(train[feat], train[target])"
   ]
  },
  {
   "cell_type": "code",
   "execution_count": 61,
   "id": "8387d999",
   "metadata": {},
   "outputs": [],
   "source": [
    "# use trained model to make predictions on training data\n",
    "train['lin_pred'] = lin_reg.predict(train[feat])"
   ]
  },
  {
   "cell_type": "code",
   "execution_count": 62,
   "id": "82c2fdb5",
   "metadata": {},
   "outputs": [],
   "source": [
    "# use trained model to make predictions on VAL data\n",
    "val['lin_pred'] = lin_reg.predict(val[feat])"
   ]
  },
  {
   "cell_type": "code",
   "execution_count": 63,
   "id": "e811b263",
   "metadata": {},
   "outputs": [
    {
     "name": "stdout",
     "output_type": "stream",
     "text": [
      " R2 Score is 0.8128823618793344\n",
      " Mean Sq Erro is 333085.2425065593\n",
      " Root MSE is 577.1353762390236\n",
      " Mean Abs Error is 367.61596737874004\n"
     ]
    }
   ],
   "source": [
    "scores(train[target],train['lin_pred'])"
   ]
  },
  {
   "cell_type": "code",
   "execution_count": 64,
   "id": "25e0c8e7",
   "metadata": {},
   "outputs": [
    {
     "name": "stdout",
     "output_type": "stream",
     "text": [
      " R2 Score is 0.7999246765912015\n",
      " Mean Sq Erro is 361160.70288020786\n",
      " Root MSE is 600.966474006835\n",
      " Mean Abs Error is 380.7478065453796\n"
     ]
    }
   ],
   "source": [
    "scores(val[target],val['lin_pred'])"
   ]
  },
  {
   "cell_type": "code",
   "execution_count": null,
   "id": "6b5e572d",
   "metadata": {},
   "outputs": [],
   "source": []
  },
  {
   "cell_type": "code",
   "execution_count": 21,
   "id": "c84a3b78",
   "metadata": {},
   "outputs": [],
   "source": [
    "#2 POLYNOMIAL \n",
    "poly = PolynomialFeatures(degree=3)\n",
    "X_poly = poly.fit_transform(train[feat])\n",
    "\n",
    "# create LinearRegression object and fit on transformed training data\n",
    "poly_reg = LinearRegression()\n",
    "poly_reg.fit(X_poly, train[target])\n",
    "\n",
    "# use trained model to make predictions on training data\n",
    "train['poly_pred'] = poly_reg.predict(X_poly)\n"
   ]
  },
  {
   "cell_type": "code",
   "execution_count": 22,
   "id": "12d69131",
   "metadata": {},
   "outputs": [
    {
     "name": "stdout",
     "output_type": "stream",
     "text": [
      " R2 Score is 0.8353150568273213\n",
      " Mean Sq Erro is 293153.14571508806\n",
      " Root MSE is 541.4361880361231\n",
      " Mean Abs Error is 351.0254793750073\n"
     ]
    }
   ],
   "source": [
    "scores(train[target],train['poly_pred'])"
   ]
  },
  {
   "cell_type": "code",
   "execution_count": 23,
   "id": "2419f1b5",
   "metadata": {},
   "outputs": [],
   "source": [
    "X_poly_val = poly.transform(val[feat])\n",
    "\n",
    "# use trained model to make predictions on VAL data\n",
    "val['poly_pred'] = poly_reg.predict(X_poly_val)"
   ]
  },
  {
   "cell_type": "code",
   "execution_count": 24,
   "id": "e01884f2",
   "metadata": {},
   "outputs": [
    {
     "name": "stdout",
     "output_type": "stream",
     "text": [
      " R2 Score is -6.310987906976064e+17\n",
      " Mean Sq Erro is 1.1392113677581755e+24\n",
      " Root MSE is 1067338450426.1877\n",
      " Mean Abs Error is 26032840851.457516\n"
     ]
    }
   ],
   "source": [
    "scores(val[target],val['poly_pred'])"
   ]
  },
  {
   "cell_type": "code",
   "execution_count": null,
   "id": "ec130a2a",
   "metadata": {},
   "outputs": [],
   "source": []
  },
  {
   "cell_type": "code",
   "execution_count": 364,
   "id": "4f2d6ece",
   "metadata": {},
   "outputs": [
    {
     "name": "stdout",
     "output_type": "stream",
     "text": [
      "Best parameters: {'max_depth': 5, 'max_features': 'auto', 'min_samples_leaf': 4, 'min_samples_split': 20}\n",
      "Best mean absolute error: 372.79044055902494\n"
     ]
    }
   ],
   "source": [
    "from sklearn.tree import DecisionTreeRegressor\n",
    "from sklearn.model_selection import GridSearchCV\n",
    "from sklearn.metrics import make_scorer, mean_absolute_error\n",
    "from sklearn.datasets import make_regression\n",
    "\n",
    "# Generate a synthetic dataset\n",
    "X, y = make_regression(n_samples=100, n_features=5, random_state=42)\n",
    "\n",
    "# Create the Decision Tree Regressor\n",
    "dt_model = DecisionTreeRegressor(random_state=42)\n",
    "\n",
    "# Define the parameter grid for grid search\n",
    "param_grid = {\n",
    "    'max_depth': [5, 10,15,25,50],\n",
    "    'min_samples_split': [2, 5, 10, 15,20,25,30],\n",
    "    'min_samples_leaf': [1, 2, 4,6,8,10],\n",
    "    'max_features': ['auto', 'sqrt', 'log2']\n",
    "}\n",
    "\n",
    "# Define the scoring metric as mean absolute error\n",
    "scorer = make_scorer(mean_absolute_error, greater_is_better=False)\n",
    "\n",
    "# Perform grid search cross-validation\n",
    "grid_search = GridSearchCV(estimator=dt_model, param_grid=param_grid, cv=5, scoring=scorer)\n",
    "grid_search.fit(train[feat], train[target])\n",
    "\n",
    "# Retrieve the best parameters and best score\n",
    "best_params = grid_search.best_params_\n",
    "best_score = -grid_search.best_score_  # Convert negative MAE back to positive\n",
    "\n",
    "print(\"Best parameters:\", best_params)\n",
    "print(\"Best mean absolute error:\", best_score)\n"
   ]
  },
  {
   "cell_type": "code",
   "execution_count": 371,
   "id": "cdc70661",
   "metadata": {},
   "outputs": [
    {
     "data": {
      "text/plain": [
       "DecisionTreeRegressor(max_depth=10, min_samples_leaf=100, min_samples_split=5)"
      ]
     },
     "execution_count": 371,
     "metadata": {},
     "output_type": "execute_result"
    }
   ],
   "source": [
    "#Decision tree\n",
    "from sklearn.tree import DecisionTreeRegressor\n",
    "dt = DecisionTreeRegressor(max_depth = 10, min_samples_leaf = 100, min_samples_split = 5)\n",
    "dt.fit(train[feat], train[target])"
   ]
  },
  {
   "cell_type": "code",
   "execution_count": 372,
   "id": "3060e57b",
   "metadata": {},
   "outputs": [],
   "source": [
    "train[\"dec_pred\"] = dt.predict(train[feat])"
   ]
  },
  {
   "cell_type": "code",
   "execution_count": 373,
   "id": "2d923d57",
   "metadata": {},
   "outputs": [
    {
     "name": "stdout",
     "output_type": "stream",
     "text": [
      " R2 Score is 0.8202009546238641\n",
      " Mean Sq Erro is 320057.527623014\n",
      " Root MSE is 565.7362703795948\n",
      " Mean Abs Error is 356.3369361693606\n"
     ]
    }
   ],
   "source": [
    "scores(train[target],train[\"dec_pred\"])"
   ]
  },
  {
   "cell_type": "code",
   "execution_count": 374,
   "id": "bdded42d",
   "metadata": {},
   "outputs": [],
   "source": [
    "val[\"dec_pred\"] = dt.predict(val[feat])"
   ]
  },
  {
   "cell_type": "code",
   "execution_count": 375,
   "id": "206591d7",
   "metadata": {},
   "outputs": [
    {
     "name": "stdout",
     "output_type": "stream",
     "text": [
      " R2 Score is 0.8128982048148956\n",
      " Mean Sq Erro is 337741.8799475466\n",
      " Root MSE is 581.1556417583388\n",
      " Mean Abs Error is 367.90667324477636\n"
     ]
    }
   ],
   "source": [
    "scores(val[target],val[\"dec_pred\"])"
   ]
  },
  {
   "cell_type": "code",
   "execution_count": null,
   "id": "0f439c2e",
   "metadata": {},
   "outputs": [],
   "source": []
  },
  {
   "cell_type": "code",
   "execution_count": 188,
   "id": "2da51ff4",
   "metadata": {},
   "outputs": [
    {
     "name": "stderr",
     "output_type": "stream",
     "text": [
      "C:\\Users\\khann\\AppData\\Local\\Temp\\ipykernel_22276\\399986813.py:5: DataConversionWarning: A column-vector y was passed when a 1d array was expected. Please change the shape of y to (n_samples,), for example using ravel().\n",
      "  rf.fit(train[feat], train[target])\n"
     ]
    },
    {
     "data": {
      "text/plain": [
       "RandomForestRegressor(max_depth=10, min_samples_leaf=100, min_samples_split=5,\n",
       "                      n_estimators=200)"
      ]
     },
     "execution_count": 188,
     "metadata": {},
     "output_type": "execute_result"
    }
   ],
   "source": [
    "#Random Forest\n",
    "#n_estimators = 200 ,max_depth = 50, min_samples_leaf = 5, min_samples_split = 30\n",
    "from sklearn.ensemble import RandomForestRegressor\n",
    "rf = RandomForestRegressor(n_estimators = 200,max_depth = 10, min_samples_leaf = 100, min_samples_split = 5)\n",
    "rf.fit(train[feat], train[target])"
   ]
  },
  {
   "cell_type": "code",
   "execution_count": 189,
   "id": "9bd09aa9",
   "metadata": {},
   "outputs": [],
   "source": [
    "train[\"rf_pred\"] = rf.predict(train[feat])"
   ]
  },
  {
   "cell_type": "code",
   "execution_count": 190,
   "id": "47890b2b",
   "metadata": {},
   "outputs": [
    {
     "name": "stdout",
     "output_type": "stream",
     "text": [
      " R2 Score is 0.8208910366035107\n",
      " Mean Sq Erro is 318829.1232574579\n",
      " Root MSE is 564.6495579184118\n",
      " Mean Abs Error is 351.37102175074597\n"
     ]
    }
   ],
   "source": [
    "scores(train[target],train[\"rf_pred\"])"
   ]
  },
  {
   "cell_type": "code",
   "execution_count": 191,
   "id": "8159de9c",
   "metadata": {},
   "outputs": [],
   "source": [
    "val[\"rf_pred\"] = rf.predict(val[feat])"
   ]
  },
  {
   "cell_type": "code",
   "execution_count": 192,
   "id": "05e1c38d",
   "metadata": {},
   "outputs": [
    {
     "name": "stdout",
     "output_type": "stream",
     "text": [
      " R2 Score is 0.8156891532899075\n",
      " Mean Sq Erro is 332703.87278222403\n",
      " Root MSE is 576.8048827655882\n",
      " Mean Abs Error is 361.45882216699556\n"
     ]
    }
   ],
   "source": [
    "scores(val[target],val[\"rf_pred\"])"
   ]
  },
  {
   "cell_type": "code",
   "execution_count": null,
   "id": "d9b47ed0",
   "metadata": {},
   "outputs": [],
   "source": []
  },
  {
   "cell_type": "code",
   "execution_count": 439,
   "id": "f3c2219f",
   "metadata": {},
   "outputs": [
    {
     "data": {
      "text/plain": [
       "XGBRegressor(base_score=None, booster=None, callbacks=None,\n",
       "             colsample_bylevel=None, colsample_bynode=None,\n",
       "             colsample_bytree=None, early_stopping_rounds=None,\n",
       "             enable_categorical=False, eval_metric=None, feature_types=None,\n",
       "             gamma=None, gpu_id=None, grow_policy=None, importance_type=None,\n",
       "             interaction_constraints=None, learning_rate=None, max_bin=None,\n",
       "             max_cat_threshold=None, max_cat_to_onehot=None,\n",
       "             max_delta_step=None, max_depth=4, max_leaves=None,\n",
       "             min_child_weight=None, missing=nan, monotone_constraints=None,\n",
       "             n_estimators=100, n_jobs=None, num_parallel_tree=None,\n",
       "             predictor=None, random_state=None, ...)"
      ]
     },
     "execution_count": 439,
     "metadata": {},
     "output_type": "execute_result"
    }
   ],
   "source": [
    "# xgboost\n",
    "#Best hyperparameters: {'max_depth': 5, 'n_estimators': 100, 'reg_alpha': 0.1, 'reg_lambda': 1.0}\n",
    "from xgboost import XGBRegressor\n",
    "xg_reg = XGBRegressor(n_estimators = 100,max_depth = 4,reg_alpha=0.1, reg_lambda=1)\n",
    "xg_reg.fit(train[feat], train[target])"
   ]
  },
  {
   "cell_type": "code",
   "execution_count": 440,
   "id": "fc750dbd",
   "metadata": {},
   "outputs": [],
   "source": [
    "train[\"xg_pred\"] = xg_reg.predict(train[feat])"
   ]
  },
  {
   "cell_type": "code",
   "execution_count": 441,
   "id": "bf437984",
   "metadata": {},
   "outputs": [
    {
     "name": "stdout",
     "output_type": "stream",
     "text": [
      " R2 Score is 0.8755007723829051\n",
      " Mean Sq Erro is 221619.16877113192\n",
      " Root MSE is 470.76445147348574\n",
      " Mean Abs Error is 305.2887134958784\n"
     ]
    }
   ],
   "source": [
    "scores(train[target],train[\"xg_pred\"])"
   ]
  },
  {
   "cell_type": "code",
   "execution_count": 442,
   "id": "4f2b1ca5",
   "metadata": {},
   "outputs": [
    {
     "name": "stdout",
     "output_type": "stream",
     "text": [
      " R2 Score is 0.8174968649388186\n",
      " Mean Sq Erro is 329440.72968890256\n",
      " Root MSE is 573.9692759102203\n",
      " Mean Abs Error is 362.10749029254714\n"
     ]
    }
   ],
   "source": [
    "val[\"xg_pred\"] = xg_reg.predict(val[feat])\n",
    "scores(val[target],val[\"xg_pred\"])"
   ]
  },
  {
   "cell_type": "code",
   "execution_count": 445,
   "id": "b502dd7b",
   "metadata": {},
   "outputs": [
    {
     "data": {
      "text/html": [
       "<div>\n",
       "<style scoped>\n",
       "    .dataframe tbody tr th:only-of-type {\n",
       "        vertical-align: middle;\n",
       "    }\n",
       "\n",
       "    .dataframe tbody tr th {\n",
       "        vertical-align: top;\n",
       "    }\n",
       "\n",
       "    .dataframe thead th {\n",
       "        text-align: right;\n",
       "    }\n",
       "</style>\n",
       "<table border=\"1\" class=\"dataframe\">\n",
       "  <thead>\n",
       "    <tr style=\"text-align: right;\">\n",
       "      <th></th>\n",
       "      <th>id</th>\n",
       "      <th>clonesize</th>\n",
       "      <th>honeybee</th>\n",
       "      <th>bumbles</th>\n",
       "      <th>andrena</th>\n",
       "      <th>osmia</th>\n",
       "      <th>MaxOfUpperTRange</th>\n",
       "      <th>MinOfUpperTRange</th>\n",
       "      <th>AverageOfUpperTRange</th>\n",
       "      <th>MaxOfLowerTRange</th>\n",
       "      <th>MinOfLowerTRange</th>\n",
       "      <th>AverageOfLowerTRange</th>\n",
       "      <th>RainingDays</th>\n",
       "      <th>AverageRainingDays</th>\n",
       "      <th>fruitset</th>\n",
       "      <th>fruitmass</th>\n",
       "      <th>seeds</th>\n",
       "      <th>xg_pred</th>\n",
       "    </tr>\n",
       "  </thead>\n",
       "  <tbody>\n",
       "    <tr>\n",
       "      <th>0</th>\n",
       "      <td>15289</td>\n",
       "      <td>25.0</td>\n",
       "      <td>0.25</td>\n",
       "      <td>0.25</td>\n",
       "      <td>0.25</td>\n",
       "      <td>0.25</td>\n",
       "      <td>86.0</td>\n",
       "      <td>52.0</td>\n",
       "      <td>71.9</td>\n",
       "      <td>62.0</td>\n",
       "      <td>30.0</td>\n",
       "      <td>50.8</td>\n",
       "      <td>24.0</td>\n",
       "      <td>0.39</td>\n",
       "      <td>0.399367</td>\n",
       "      <td>0.408088</td>\n",
       "      <td>31.394569</td>\n",
       "      <td>4360.574219</td>\n",
       "    </tr>\n",
       "    <tr>\n",
       "      <th>1</th>\n",
       "      <td>15290</td>\n",
       "      <td>12.5</td>\n",
       "      <td>0.25</td>\n",
       "      <td>0.25</td>\n",
       "      <td>0.75</td>\n",
       "      <td>0.63</td>\n",
       "      <td>94.6</td>\n",
       "      <td>57.2</td>\n",
       "      <td>79.0</td>\n",
       "      <td>68.2</td>\n",
       "      <td>33.0</td>\n",
       "      <td>55.9</td>\n",
       "      <td>1.0</td>\n",
       "      <td>0.10</td>\n",
       "      <td>0.488048</td>\n",
       "      <td>0.442866</td>\n",
       "      <td>36.846956</td>\n",
       "      <td>6625.844727</td>\n",
       "    </tr>\n",
       "    <tr>\n",
       "      <th>2</th>\n",
       "      <td>15291</td>\n",
       "      <td>12.5</td>\n",
       "      <td>0.25</td>\n",
       "      <td>0.25</td>\n",
       "      <td>0.63</td>\n",
       "      <td>0.63</td>\n",
       "      <td>86.0</td>\n",
       "      <td>52.0</td>\n",
       "      <td>71.9</td>\n",
       "      <td>62.0</td>\n",
       "      <td>30.0</td>\n",
       "      <td>50.8</td>\n",
       "      <td>16.0</td>\n",
       "      <td>0.26</td>\n",
       "      <td>0.583379</td>\n",
       "      <td>0.487057</td>\n",
       "      <td>40.037644</td>\n",
       "      <td>7186.819824</td>\n",
       "    </tr>\n",
       "    <tr>\n",
       "      <th>3</th>\n",
       "      <td>15292</td>\n",
       "      <td>25.0</td>\n",
       "      <td>0.50</td>\n",
       "      <td>0.38</td>\n",
       "      <td>0.38</td>\n",
       "      <td>0.63</td>\n",
       "      <td>86.0</td>\n",
       "      <td>52.0</td>\n",
       "      <td>71.9</td>\n",
       "      <td>62.0</td>\n",
       "      <td>30.0</td>\n",
       "      <td>50.8</td>\n",
       "      <td>16.0</td>\n",
       "      <td>0.26</td>\n",
       "      <td>0.433014</td>\n",
       "      <td>0.422847</td>\n",
       "      <td>33.116091</td>\n",
       "      <td>4763.848633</td>\n",
       "    </tr>\n",
       "    <tr>\n",
       "      <th>4</th>\n",
       "      <td>15293</td>\n",
       "      <td>37.5</td>\n",
       "      <td>0.75</td>\n",
       "      <td>0.25</td>\n",
       "      <td>0.25</td>\n",
       "      <td>0.25</td>\n",
       "      <td>94.6</td>\n",
       "      <td>57.2</td>\n",
       "      <td>79.0</td>\n",
       "      <td>68.2</td>\n",
       "      <td>33.0</td>\n",
       "      <td>55.9</td>\n",
       "      <td>24.0</td>\n",
       "      <td>0.39</td>\n",
       "      <td>0.360996</td>\n",
       "      <td>0.388860</td>\n",
       "      <td>29.558019</td>\n",
       "      <td>3761.255615</td>\n",
       "    </tr>\n",
       "  </tbody>\n",
       "</table>\n",
       "</div>"
      ],
      "text/plain": [
       "      id  clonesize  honeybee  bumbles  andrena  osmia  MaxOfUpperTRange  \\\n",
       "0  15289       25.0      0.25     0.25     0.25   0.25              86.0   \n",
       "1  15290       12.5      0.25     0.25     0.75   0.63              94.6   \n",
       "2  15291       12.5      0.25     0.25     0.63   0.63              86.0   \n",
       "3  15292       25.0      0.50     0.38     0.38   0.63              86.0   \n",
       "4  15293       37.5      0.75     0.25     0.25   0.25              94.6   \n",
       "\n",
       "   MinOfUpperTRange  AverageOfUpperTRange  MaxOfLowerTRange  MinOfLowerTRange  \\\n",
       "0              52.0                  71.9              62.0              30.0   \n",
       "1              57.2                  79.0              68.2              33.0   \n",
       "2              52.0                  71.9              62.0              30.0   \n",
       "3              52.0                  71.9              62.0              30.0   \n",
       "4              57.2                  79.0              68.2              33.0   \n",
       "\n",
       "   AverageOfLowerTRange  RainingDays  AverageRainingDays  fruitset  fruitmass  \\\n",
       "0                  50.8         24.0                0.39  0.399367   0.408088   \n",
       "1                  55.9          1.0                0.10  0.488048   0.442866   \n",
       "2                  50.8         16.0                0.26  0.583379   0.487057   \n",
       "3                  50.8         16.0                0.26  0.433014   0.422847   \n",
       "4                  55.9         24.0                0.39  0.360996   0.388860   \n",
       "\n",
       "       seeds      xg_pred  \n",
       "0  31.394569  4360.574219  \n",
       "1  36.846956  6625.844727  \n",
       "2  40.037644  7186.819824  \n",
       "3  33.116091  4763.848633  \n",
       "4  29.558019  3761.255615  "
      ]
     },
     "execution_count": 445,
     "metadata": {},
     "output_type": "execute_result"
    }
   ],
   "source": [
    "test.head()"
   ]
  },
  {
   "cell_type": "code",
   "execution_count": 444,
   "id": "d829ae50",
   "metadata": {},
   "outputs": [],
   "source": [
    "test['xg_pred'] = xg_reg.predict(test[feat])"
   ]
  },
  {
   "cell_type": "code",
   "execution_count": 453,
   "id": "92457a6c",
   "metadata": {},
   "outputs": [],
   "source": [
    "xg_sub1 = test[['id','xg_pred']].rename(columns={'xg_pred':'yield'})"
   ]
  },
  {
   "cell_type": "code",
   "execution_count": 456,
   "id": "bd48f84c",
   "metadata": {},
   "outputs": [],
   "source": [
    "xg_sub1 = xg_sub.to_csv('xg_sub1.csv')"
   ]
  },
  {
   "cell_type": "code",
   "execution_count": 451,
   "id": "6ae117f1",
   "metadata": {},
   "outputs": [
    {
     "data": {
      "text/html": [
       "<div>\n",
       "<style scoped>\n",
       "    .dataframe tbody tr th:only-of-type {\n",
       "        vertical-align: middle;\n",
       "    }\n",
       "\n",
       "    .dataframe tbody tr th {\n",
       "        vertical-align: top;\n",
       "    }\n",
       "\n",
       "    .dataframe thead th {\n",
       "        text-align: right;\n",
       "    }\n",
       "</style>\n",
       "<table border=\"1\" class=\"dataframe\">\n",
       "  <thead>\n",
       "    <tr style=\"text-align: right;\">\n",
       "      <th></th>\n",
       "      <th>id</th>\n",
       "      <th>yield</th>\n",
       "    </tr>\n",
       "  </thead>\n",
       "  <tbody>\n",
       "    <tr>\n",
       "      <th>0</th>\n",
       "      <td>15289</td>\n",
       "      <td>6025.194</td>\n",
       "    </tr>\n",
       "    <tr>\n",
       "      <th>1</th>\n",
       "      <td>15290</td>\n",
       "      <td>6025.194</td>\n",
       "    </tr>\n",
       "    <tr>\n",
       "      <th>2</th>\n",
       "      <td>15291</td>\n",
       "      <td>6025.194</td>\n",
       "    </tr>\n",
       "    <tr>\n",
       "      <th>3</th>\n",
       "      <td>15292</td>\n",
       "      <td>6025.194</td>\n",
       "    </tr>\n",
       "    <tr>\n",
       "      <th>4</th>\n",
       "      <td>15293</td>\n",
       "      <td>6025.194</td>\n",
       "    </tr>\n",
       "    <tr>\n",
       "      <th>...</th>\n",
       "      <td>...</td>\n",
       "      <td>...</td>\n",
       "    </tr>\n",
       "    <tr>\n",
       "      <th>10189</th>\n",
       "      <td>25478</td>\n",
       "      <td>6025.194</td>\n",
       "    </tr>\n",
       "    <tr>\n",
       "      <th>10190</th>\n",
       "      <td>25479</td>\n",
       "      <td>6025.194</td>\n",
       "    </tr>\n",
       "    <tr>\n",
       "      <th>10191</th>\n",
       "      <td>25480</td>\n",
       "      <td>6025.194</td>\n",
       "    </tr>\n",
       "    <tr>\n",
       "      <th>10192</th>\n",
       "      <td>25481</td>\n",
       "      <td>6025.194</td>\n",
       "    </tr>\n",
       "    <tr>\n",
       "      <th>10193</th>\n",
       "      <td>25482</td>\n",
       "      <td>6025.194</td>\n",
       "    </tr>\n",
       "  </tbody>\n",
       "</table>\n",
       "<p>10194 rows × 2 columns</p>\n",
       "</div>"
      ],
      "text/plain": [
       "          id     yield\n",
       "0      15289  6025.194\n",
       "1      15290  6025.194\n",
       "2      15291  6025.194\n",
       "3      15292  6025.194\n",
       "4      15293  6025.194\n",
       "...      ...       ...\n",
       "10189  25478  6025.194\n",
       "10190  25479  6025.194\n",
       "10191  25480  6025.194\n",
       "10192  25481  6025.194\n",
       "10193  25482  6025.194\n",
       "\n",
       "[10194 rows x 2 columns]"
      ]
     },
     "execution_count": 451,
     "metadata": {},
     "output_type": "execute_result"
    }
   ],
   "source": [
    "sample_sub"
   ]
  }
 ],
 "metadata": {
  "kernelspec": {
   "display_name": "Python 3 (ipykernel)",
   "language": "python",
   "name": "python3"
  },
  "language_info": {
   "codemirror_mode": {
    "name": "ipython",
    "version": 3
   },
   "file_extension": ".py",
   "mimetype": "text/x-python",
   "name": "python",
   "nbconvert_exporter": "python",
   "pygments_lexer": "ipython3",
   "version": "3.9.12"
  }
 },
 "nbformat": 4,
 "nbformat_minor": 5
}
